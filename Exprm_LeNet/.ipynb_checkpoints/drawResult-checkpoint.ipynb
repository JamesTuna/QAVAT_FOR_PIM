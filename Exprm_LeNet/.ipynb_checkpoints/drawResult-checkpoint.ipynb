{
 "cells": [
  {
   "cell_type": "code",
   "execution_count": 3,
   "metadata": {
    "scrolled": true
   },
   "outputs": [
    {
     "name": "stdout",
     "output_type": "stream",
     "text": [
      "noise 0.1\n",
      "QAT 0.9764\n",
      "QAT+VAT 0.9736\n",
      "\n"
     ]
    },
    {
     "ename": "AttributeError",
     "evalue": "'memoryview' object has no attribute 'item'",
     "output_type": "error",
     "traceback": [
      "\u001b[0;31m---------------------------------------------------------------------------\u001b[0m",
      "\u001b[0;31mAttributeError\u001b[0m                            Traceback (most recent call last)",
      "\u001b[0;32m<ipython-input-3-4124770c54a9>\u001b[0m in \u001b[0;36m<module>\u001b[0;34m\u001b[0m\n\u001b[1;32m     13\u001b[0m     \u001b[0mprint\u001b[0m\u001b[0;34m(\u001b[0m\u001b[0;34m\"QAT+VAT %.4f\"\u001b[0m\u001b[0;34m%\u001b[0m\u001b[0;34m(\u001b[0m\u001b[0mVAmodel_res\u001b[0m\u001b[0;34m[\u001b[0m\u001b[0;34m'mean_acc'\u001b[0m\u001b[0;34m]\u001b[0m\u001b[0;34m)\u001b[0m\u001b[0;34m)\u001b[0m\u001b[0;34m\u001b[0m\u001b[0;34m\u001b[0m\u001b[0m\n\u001b[1;32m     14\u001b[0m     \u001b[0mprint\u001b[0m\u001b[0;34m(\u001b[0m\u001b[0;34m\"\"\u001b[0m\u001b[0;34m)\u001b[0m\u001b[0;34m\u001b[0m\u001b[0;34m\u001b[0m\u001b[0m\n\u001b[0;32m---> 15\u001b[0;31m     \u001b[0mqat_acc\u001b[0m\u001b[0;34m.\u001b[0m\u001b[0mappend\u001b[0m\u001b[0;34m(\u001b[0m\u001b[0mbasemodel_res\u001b[0m\u001b[0;34m[\u001b[0m\u001b[0;34m'mean_acc'\u001b[0m\u001b[0;34m]\u001b[0m\u001b[0;34m.\u001b[0m\u001b[0mdata\u001b[0m\u001b[0;34m.\u001b[0m\u001b[0mitem\u001b[0m\u001b[0;34m(\u001b[0m\u001b[0;34m)\u001b[0m\u001b[0;34m)\u001b[0m\u001b[0;34m\u001b[0m\u001b[0;34m\u001b[0m\u001b[0m\n\u001b[0m\u001b[1;32m     16\u001b[0m     \u001b[0mqavat_acc\u001b[0m\u001b[0;34m.\u001b[0m\u001b[0mappend\u001b[0m\u001b[0;34m(\u001b[0m\u001b[0mVAmodel_res\u001b[0m\u001b[0;34m[\u001b[0m\u001b[0;34m'mean_acc'\u001b[0m\u001b[0;34m]\u001b[0m\u001b[0;34m.\u001b[0m\u001b[0mdata\u001b[0m\u001b[0;34m.\u001b[0m\u001b[0mitem\u001b[0m\u001b[0;34m(\u001b[0m\u001b[0;34m)\u001b[0m\u001b[0;34m)\u001b[0m\u001b[0;34m\u001b[0m\u001b[0;34m\u001b[0m\u001b[0m\n",
      "\u001b[0;31mAttributeError\u001b[0m: 'memoryview' object has no attribute 'item'"
     ]
    }
   ],
   "source": [
    "import torch\n",
    "import matplotlib.pyplot as plt\n",
    "qat_acc = []\n",
    "qavat_acc = []\n",
    "noise_list = (0.1,0.2,0.3,0.4,0.5)\n",
    "for noise in noise_list:\n",
    "    basemodel = 'testResult_noise%.4f_LeNet_A1W1_noise0.0.ckpt'%(noise)\n",
    "    VAmodel = 'testResult_noise%.4f_LeNet_A1W1_noise%s.ckpt'%(noise,noise)\n",
    "    basemodel_res = torch.load(basemodel)\n",
    "    VAmodel_res = torch.load(VAmodel)\n",
    "    print(\"noise %s\"%noise)\n",
    "    print(\"QAT %.4f\"%(basemodel_res['mean_acc']))\n",
    "    print(\"QAT+VAT %.4f\"%(VAmodel_res['mean_acc']))\n",
    "    print(\"\")\n",
    "    qat_acc.append(basemodel_res['mean_acc'].data)\n",
    "    qavat_acc.append(VAmodel_res['mean_acc'].data)"
   ]
  },
  {
   "cell_type": "code",
   "execution_count": null,
   "metadata": {},
   "outputs": [],
   "source": [
    "plt.plot(noise_list,qat_acc,label='QAT')\n",
    "plt.scatter(noise_list,qat_acc)\n",
    "plt.plot(noise_list,qavat_acc,label='QAVAT')\n",
    "plt.scatter(noise_list,qavat_acc)"
   ]
  }
 ],
 "metadata": {
  "kernelspec": {
   "display_name": "Python 3",
   "language": "python",
   "name": "python3"
  },
  "language_info": {
   "codemirror_mode": {
    "name": "ipython",
    "version": 3
   },
   "file_extension": ".py",
   "mimetype": "text/x-python",
   "name": "python",
   "nbconvert_exporter": "python",
   "pygments_lexer": "ipython3",
   "version": "3.8.5"
  }
 },
 "nbformat": 4,
 "nbformat_minor": 4
}
