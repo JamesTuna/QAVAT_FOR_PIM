{
 "cells": [
  {
   "cell_type": "code",
   "execution_count": null,
   "metadata": {
    "scrolled": true
   },
   "outputs": [],
   "source": [
    "# PTQ of VAT models\n",
    "import sys\n",
    "sys.path.insert(1,'../')\n",
    "from utils.model import *\n",
    "from utils.loader import *\n",
    "from utils.optimizer import *\n",
    "import argparse\n",
    "\n",
    "device = \"cuda:0\"\n",
    "nbits_activation = 8\n",
    "nbits_weight = 2\n",
    "noise = 0.5\n",
    "model_name = \"VGG\"\n",
    "VAT_ckpt = \"saved/\"+model_name+\"_ANoneWNone_noise%.1f.ckpt\"%noise\n",
    "repeat = 100\n",
    "\n",
    "print(\"Try loading from \"+VAT_ckpt+\"...\")\n",
    "model = VGG11(nbits_weight=None,nbits_activation=None)\n",
    "saved_model = torch.load(VAT_ckpt,map_location='cpu')\n",
    "model.load_state_dict(saved_model)\n",
    "model.to(\"cuda:0\")\n",
    "print(\"load succeeded\")\n",
    "\n",
    "train_loader,test_loader = get_loader('CIFAR10',batch_size=128, test_size=10000,test_batch_size=1000)\n",
    "test_loader.pin_memory = True\n",
    "test_loader.num_workers = 4\n",
    "train_loader.pin_memory = True\n",
    "train_loader.num_workers = 8\n",
    "\n",
    "model.eval()\n",
    "result = test(test_loader,model,noise_std=noise,\n",
    "                      repeat=repeat,device=device,\n",
    "                                    imgSize=32,imgFlat=False,debug=True,lossfunc=torch.nn.CrossEntropyLoss())\n",
    "\n",
    "print(\"FP32 acc: \",result)"
   ]
  },
  {
   "cell_type": "code",
   "execution_count": null,
   "metadata": {},
   "outputs": [],
   "source": [
    "for layer in model.modules():\n",
    "    if isinstance(layer,qLinear) or isinstance(layer,qConv2d):\n",
    "        layer.nbits_activation = nbits_activation\n",
    "        layer.nbits_weight = nbits_weight\n",
    "        layer.input_scale = nn.Parameter(torch.Tensor([0]),requires_grad=False)\n",
    "        layer.weight_scale = nn.Parameter(torch.Tensor([0]),requires_grad=False)\n",
    "        layer.intervals_activation = 2**(nbits_activation-1) - 1\n",
    "        layer.intervals_weight = 2**(nbits_weight-1) - 1\n",
    "model.to(device)\n",
    "model.eval()\n",
    "result = test(test_loader,model,noise_std=noise,\n",
    "                      repeat=repeat,device=device,\n",
    "                                    imgSize=32,imgFlat=False,debug=True,lossfunc=torch.nn.CrossEntropyLoss())\n",
    "\n",
    "print(\"quant acc: \",result)"
   ]
  },
  {
   "cell_type": "code",
   "execution_count": null,
   "metadata": {},
   "outputs": [],
   "source": [
    "model.train()\n",
    "for epoch in range(1):\n",
    "    print(\"tuning input_scale: epoch %s\"%epoch)\n",
    "    for i, data in enumerate(train_loader, 0):\n",
    "        model.train()\n",
    "        x, label = data\n",
    "        x = x.to(device)\n",
    "        if noise > 0:\n",
    "            model.generate_variation(noise_std=noise)\n",
    "        output = model(x)"
   ]
  },
  {
   "cell_type": "code",
   "execution_count": null,
   "metadata": {},
   "outputs": [],
   "source": [
    "model.eval()\n",
    "result = test(test_loader,model,noise_std=noise,\n",
    "                      repeat=repeat,device=device,\n",
    "                                    imgSize=32,imgFlat=False,debug=True,lossfunc=torch.nn.CrossEntropyLoss())\n",
    "\n",
    "print(\"quant acc: \",result)"
   ]
  },
  {
   "cell_type": "code",
   "execution_count": null,
   "metadata": {},
   "outputs": [],
   "source": []
  }
 ],
 "metadata": {
  "kernelspec": {
   "display_name": "Python 3",
   "language": "python",
   "name": "python3"
  },
  "language_info": {
   "codemirror_mode": {
    "name": "ipython",
    "version": 3
   },
   "file_extension": ".py",
   "mimetype": "text/x-python",
   "name": "python",
   "nbconvert_exporter": "python",
   "pygments_lexer": "ipython3",
   "version": "3.8.5"
  }
 },
 "nbformat": 4,
 "nbformat_minor": 4
}
