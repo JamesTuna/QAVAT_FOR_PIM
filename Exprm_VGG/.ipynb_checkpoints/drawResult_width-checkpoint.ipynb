{
 "cells": [
  {
   "cell_type": "code",
   "execution_count": 26,
   "metadata": {
    "scrolled": true
   },
   "outputs": [
    {
     "name": "stdout",
     "output_type": "stream",
     "text": [
      "noise 0.1\n",
      "QAT 0.8707\n",
      "QAT+VAT 0.8716\n",
      "PTQ+VAT 0.4279\n",
      "\n",
      "noise 0.2\n",
      "QAT 0.8613\n",
      "QAT+VAT 0.8634\n",
      "PTQ+VAT 0.3698\n",
      "\n",
      "noise 0.3\n",
      "QAT 0.8431\n",
      "QAT+VAT 0.8500\n",
      "PTQ+VAT 0.4197\n",
      "\n",
      "noise 0.4\n",
      "QAT 0.8112\n",
      "QAT+VAT 0.8333\n",
      "PTQ+VAT 0.4423\n",
      "\n",
      "noise 0.5\n",
      "QAT 0.7624\n",
      "QAT+VAT 0.8152\n",
      "PTQ+VAT 0.4052\n",
      "\n"
     ]
    }
   ],
   "source": [
    "import torch\n",
    "import matplotlib.pyplot as plt\n",
    "A=8\n",
    "W=4\n",
    "widths = [0.25,0.5,1,2]\n",
    "baseline_acc = [[] for i in range(len(widths))]\n",
    "VA_acc = [[] for i in range(len(widths))]\n",
    "\n",
    "noise_list = (0.1,0.2,0.3,0.4,0.5)\n",
    "\n",
    "for i in range(len(widths)):\n",
    "    width = widths[i]\n",
    "    print(\"VGG %sx\"%width)\n",
    "    root_dir = '../Exprm_VGG%sx/'%(width)\n",
    "    if width == 1:\n",
    "        root_dir = ''\n",
    "    for noise in noise_list:\n",
    "        basemodel = root_dir+'saved/testResult_noise%.4f_VGG_A%sW%s_noise0.0.ckpt'%(noise,A,W)\n",
    "        VAmodel = root_dir+'saved/testResult_noise%.4f_VGG_A%sW%s_noise%s.ckpt'%(noise,A,W,noise)\n",
    "\n",
    "        basemodel_res = torch.load(basemodel)\n",
    "        VAmodel_res = torch.load(VAmodel)\n",
    "\n",
    "        print(\"noise %s\"%noise)\n",
    "        print(\"QAT %.4f\"%(basemodel_res['mean_acc']))\n",
    "        print(\"QAT+VAT %.4f\"%(VAmodel_res['mean_acc']))\n",
    "        print(\"\")\n",
    "        baseline_acc[i].append(basemodel_res['mean_acc'])\n",
    "        VA_acc[i].append(VAmodel_res['mean_acc'])"
   ]
  },
  {
   "cell_type": "code",
   "execution_count": 27,
   "metadata": {},
   "outputs": [
    {
     "data": {
      "image/png": "[encoded data removed]",
      "text/plain": [
       "<Figure size 432x288 with 1 Axes>"
      ]
     },
     "metadata": {
      "needs_background": "light"
     },
     "output_type": "display_data"
    }
   ],
   "source": [
    "plt.rcParams.update({'font.size': 14})\n",
    "#plt.plot(noise_list,qat_acc,label='QAT')\n",
    "#plt.scatter(noise_list,qat_acc)\n",
    "plt.plot(noise_list,qavat_acc,label='QAVAT')\n",
    "plt.scatter(noise_list,qavat_acc)\n",
    "plt.plot(noise_list,ptqvat_acc,label='PTQ-VAT')\n",
    "plt.scatter(noise_list,ptqvat_acc)\n",
    "plt.title('A%sW%s-VGG11 on CIFAR10'%(A,W))\n",
    "plt.xlabel('variation level (\\u03C3)')\n",
    "plt.ylabel('accuracy')\n",
    "plt.legend(loc='lower left')\n",
    "#plt.savefig('PTQVAT_A%sW%s-VGG11.pdf'%(A,W))\n",
    "plt.show()"
   ]
  },
  {
   "cell_type": "code",
   "execution_count": null,
   "metadata": {},
   "outputs": [],
   "source": [
    "A_list=[8]\n",
    "W_list=[1,2,3,4]\n",
    "A_Ws = [(a,w) for a in A_list for w in W_list]\n",
    "acc_listOflist=[[] for _ in A_Ws]\n",
    "noise_list = (0.1,0.2,0.3,0.4,0.5)\n",
    "for noise in noise_list:\n",
    "    for i in range(len(A_Ws)):\n",
    "        A,W = A_Ws[i]\n",
    "        model = 'saved/testResult_noise%.4f_VGG_A%sW%s_noise%s.ckpt'%(noise,A,W,noise)\n",
    "        model = 'saved/testResult_noise%.4f_VGG_A%sW%s_noise0.0.ckpt'%(noise,A,W)\n",
    "        model_res = torch.load(model)\n",
    "        print(\"noise %s\"%noise)\n",
    "        print(\"A%sW%s %.4f\"%(A,W,model_res['mean_acc']))\n",
    "        print(\"\")\n",
    "        acc_listOflist[i].append(model_res['mean_acc'])\n",
    "plt.rcParams.update({'font.size': 14})        \n",
    "for i in range(len(A_Ws)):\n",
    "    A,W = A_Ws[i]\n",
    "    plt.plot(noise_list,acc_listOflist[i],label='A%sW%s'%(A,W))\n",
    "    plt.scatter(noise_list,acc_listOflist[i])\n",
    "\n",
    "plt.title('QAT-trained VGG11 on CIFAR10')\n",
    "plt.xlabel('variation level (\\u03C3)')\n",
    "plt.ylabel('accuracy')\n",
    "plt.legend(loc='lower left')\n",
    "plt.savefig('QAT_robust_trend.pdf')\n",
    "plt.show()\n",
    "\n",
    "    "
   ]
  },
  {
   "cell_type": "code",
   "execution_count": null,
   "metadata": {},
   "outputs": [],
   "source": [
    "A_list=[8,5]\n",
    "W_list=[1,2,3,4]\n",
    "A_Ws = [(a,w) for a in A_list for w in W_list]\n",
    "acc_listOflist=[[] for _ in A_Ws]\n",
    "noise_list = (0.1,0.2,0.3,0.4,0.5)\n",
    "for noise in noise_list:\n",
    "    for i in range(len(A_Ws)):\n",
    "        A,W = A_Ws[i]\n",
    "        model = 'saved/testResult_noise%.4f_VGG_A%sW%s_noise%s.ckpt'%(noise,A,W,noise)\n",
    "        #model = 'saved/testResult_noise%.4f_VGG_A%sW%s_noise0.0.ckpt'%(noise,A,W)\n",
    "        model_res = torch.load(model)\n",
    "        print(\"noise %s\"%noise)\n",
    "        print(\"A%sW%s %.4f\"%(A,W,model_res['mean_acc']))\n",
    "        print(\"\")\n",
    "        acc_listOflist[i].append(model_res['mean_acc'])\n",
    "plt.rcParams.update({'font.size': 14})        \n",
    "for i in range(len(A_Ws)):\n",
    "    A,W = A_Ws[i]\n",
    "    plt.plot(noise_list,acc_listOflist[i],label='A%sW%s'%(A,W))\n",
    "    plt.scatter(noise_list,acc_listOflist[i])\n",
    "\n",
    "plt.title('QAVAT-trained VGG11 on CIFAR10')\n",
    "plt.xlabel('variation level (\\u03C3)')\n",
    "plt.ylabel('accuracy')\n",
    "plt.legend(loc='lower left')\n",
    "plt.savefig('QAVAT_robust_trend.pdf')\n",
    "plt.show()"
   ]
  },
  {
   "cell_type": "code",
   "execution_count": null,
   "metadata": {},
   "outputs": [],
   "source": []
  }
 ],
 "metadata": {
  "kernelspec": {
   "display_name": "Python 3",
   "language": "python",
   "name": "python3"
  },
  "language_info": {
   "codemirror_mode": {
    "name": "ipython",
    "version": 3
   },
   "file_extension": ".py",
   "mimetype": "text/x-python",
   "name": "python",
   "nbconvert_exporter": "python",
   "pygments_lexer": "ipython3",
   "version": "3.8.5"
  }
 },
 "nbformat": 4,
 "nbformat_minor": 4
}
