{
 "cells": [
  {
   "cell_type": "code",
   "execution_count": 4,
   "metadata": {
    "scrolled": true
   },
   "outputs": [
    {
     "name": "stdout",
     "output_type": "stream",
     "text": [
      "noise 0.1\n",
      "QAT 0.8993\n",
      "QAT+VAT 0.9043\n",
      "PTQ+VAT 0.8968\n",
      "\n",
      "noise 0.2\n",
      "QAT 0.8754\n",
      "QAT+VAT 0.8905\n",
      "PTQ+VAT 0.8882\n",
      "\n",
      "noise 0.3\n",
      "QAT 0.8227\n",
      "QAT+VAT 0.8802\n",
      "PTQ+VAT 0.8781\n",
      "\n",
      "noise 0.4\n",
      "QAT 0.7476\n",
      "QAT+VAT 0.8652\n",
      "PTQ+VAT 0.8615\n",
      "\n",
      "noise 0.5\n",
      "QAT 0.6459\n",
      "QAT+VAT 0.8454\n",
      "PTQ+VAT 0.8422\n",
      "\n"
     ]
    }
   ],
   "source": [
    "import torch\n",
    "import matplotlib.pyplot as plt\n",
    "A=8\n",
    "W=4\n",
    "qat_acc = []\n",
    "qavat_acc = []\n",
    "ptqvat_acc = []\n",
    "noise_list = (0.1,0.2,0.3,0.4,0.5)\n",
    "for noise in noise_list:\n",
    "    basemodel = 'saved/testResult_noise%.4f_VGG_A%sW%s_noise0.0.ckpt'%(noise,A,W)\n",
    "    VAmodel = 'saved/testResult_noise%.4f_VGG_A%sW%s_noise%s.ckpt'%(noise,A,W,noise)\n",
    "    PTQVAT_model = 'saved_PTQVAT/testResult_noise%.4f_ptqvat_A%sW%s_tuned1.ckpt'%(noise,A,W)\n",
    "    \n",
    "    basemodel_res = torch.load(basemodel)\n",
    "    VAmodel_res = torch.load(VAmodel)\n",
    "    PTQVAT_res = torch.load(PTQVAT_model)\n",
    "    \n",
    "    print(\"noise %s\"%noise)\n",
    "    print(\"QAT %.4f\"%(basemodel_res['mean_acc']))\n",
    "    print(\"QAT+VAT %.4f\"%(VAmodel_res['mean_acc']))\n",
    "    print(\"PTQ+VAT %.4f\"%(PTQVAT_res['mean_acc']))\n",
    "    print(\"\")\n",
    "    qat_acc.append(basemodel_res['mean_acc'])\n",
    "    qavat_acc.append(VAmodel_res['mean_acc'])\n",
    "    ptqvat_acc.append(PTQVAT_res['mean_acc'])"
   ]
  },
  {
   "cell_type": "code",
   "execution_count": null,
   "metadata": {},
   "outputs": [],
   "source": [
    "plt.rcParams.update({'font.size': 14})\n",
    "plt.plot(noise_list,qat_acc,label='QAT')\n",
    "plt.scatter(noise_list,qat_acc)\n",
    "plt.plot(noise_list,qavat_acc,label='QAVAT')\n",
    "plt.scatter(noise_list,qavat_acc)\n",
    "plt.plot(noise_list,ptqvat_acc,label='PTQ-VAT')\n",
    "plt.scatter(noise_list,ptqvat_acc)\n",
    "plt.title('A%sW%s-VGG11 on CIFAR10'%(A,W))\n",
    "plt.xlabel('variation level (\\u03C3)')\n",
    "plt.ylabel('accuracy')\n",
    "plt.legend(loc='lower left')\n",
    "plt.savefig('A%sW%s-VGG11.pdf'%(A,W))\n",
    "plt.show()"
   ]
  },
  {
   "cell_type": "code",
   "execution_count": null,
   "metadata": {},
   "outputs": [],
   "source": [
    "A_list=[8]\n",
    "W_list=[1,2,3,4]\n",
    "A_Ws = [(a,w) for a in A_list for w in W_list]\n",
    "acc_listOflist=[[] for _ in A_Ws]\n",
    "noise_list = (0.1,0.2,0.3,0.4,0.5)\n",
    "for noise in noise_list:\n",
    "    for i in range(len(A_Ws)):\n",
    "        A,W = A_Ws[i]\n",
    "        model = 'saved/testResult_noise%.4f_VGG_A%sW%s_noise%s.ckpt'%(noise,A,W,noise)\n",
    "        model = 'saved/testResult_noise%.4f_VGG_A%sW%s_noise0.0.ckpt'%(noise,A,W)\n",
    "        model_res = torch.load(model)\n",
    "        print(\"noise %s\"%noise)\n",
    "        print(\"A%sW%s %.4f\"%(A,W,model_res['mean_acc']))\n",
    "        print(\"\")\n",
    "        acc_listOflist[i].append(model_res['mean_acc'])\n",
    "plt.rcParams.update({'font.size': 14})        \n",
    "for i in range(len(A_Ws)):\n",
    "    A,W = A_Ws[i]\n",
    "    plt.plot(noise_list,acc_listOflist[i],label='A%sW%s'%(A,W))\n",
    "    plt.scatter(noise_list,acc_listOflist[i])\n",
    "\n",
    "plt.title('QAT-trained VGG11 on CIFAR10')\n",
    "plt.xlabel('variation level (\\u03C3)')\n",
    "plt.ylabel('accuracy')\n",
    "plt.legend(loc='lower left')\n",
    "plt.savefig('QAT_robust_trend.pdf')\n",
    "plt.show()\n",
    "\n",
    "    "
   ]
  },
  {
   "cell_type": "code",
   "execution_count": null,
   "metadata": {},
   "outputs": [],
   "source": [
    "A_list=[8,5]\n",
    "W_list=[1,2,3,4]\n",
    "A_Ws = [(a,w) for a in A_list for w in W_list]\n",
    "acc_listOflist=[[] for _ in A_Ws]\n",
    "noise_list = (0.1,0.2,0.3,0.4,0.5)\n",
    "for noise in noise_list:\n",
    "    for i in range(len(A_Ws)):\n",
    "        A,W = A_Ws[i]\n",
    "        model = 'saved/testResult_noise%.4f_VGG_A%sW%s_noise%s.ckpt'%(noise,A,W,noise)\n",
    "        #model = 'saved/testResult_noise%.4f_VGG_A%sW%s_noise0.0.ckpt'%(noise,A,W)\n",
    "        model_res = torch.load(model)\n",
    "        print(\"noise %s\"%noise)\n",
    "        print(\"A%sW%s %.4f\"%(A,W,model_res['mean_acc']))\n",
    "        print(\"\")\n",
    "        acc_listOflist[i].append(model_res['mean_acc'])\n",
    "plt.rcParams.update({'font.size': 14})        \n",
    "for i in range(len(A_Ws)):\n",
    "    A,W = A_Ws[i]\n",
    "    plt.plot(noise_list,acc_listOflist[i],label='A%sW%s'%(A,W))\n",
    "    plt.scatter(noise_list,acc_listOflist[i])\n",
    "\n",
    "plt.title('QAVAT-trained VGG11 on CIFAR10')\n",
    "plt.xlabel('variation level (\\u03C3)')\n",
    "plt.ylabel('accuracy')\n",
    "plt.legend(loc='lower left')\n",
    "plt.savefig('QAVAT_robust_trend.pdf')\n",
    "plt.show()"
   ]
  },
  {
   "cell_type": "code",
   "execution_count": null,
   "metadata": {},
   "outputs": [],
   "source": []
  }
 ],
 "metadata": {
  "kernelspec": {
   "display_name": "Python 3",
   "language": "python",
   "name": "python3"
  },
  "language_info": {
   "codemirror_mode": {
    "name": "ipython",
    "version": 3
   },
   "file_extension": ".py",
   "mimetype": "text/x-python",
   "name": "python",
   "nbconvert_exporter": "python",
   "pygments_lexer": "ipython3",
   "version": "3.8.5"
  }
 },
 "nbformat": 4,
 "nbformat_minor": 4
}
